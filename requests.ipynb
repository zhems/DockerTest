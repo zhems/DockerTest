{
 "cells": [
  {
   "cell_type": "code",
   "execution_count": 1,
   "metadata": {},
   "outputs": [],
   "source": [
    "import requests"
   ]
  },
  {
   "cell_type": "code",
   "execution_count": 5,
   "metadata": {},
   "outputs": [
    {
     "name": "stdout",
     "output_type": "stream",
     "text": [
      "200 <h1>Hello from Flask & Docker</h2>\n"
     ]
    }
   ],
   "source": [
    "x = requests.get('http://127.0.0.4:5245/')\n",
    "print(x.status_code, x.content.decode('UTF-8'))"
   ]
  },
  {
   "cell_type": "code",
   "execution_count": 7,
   "metadata": {},
   "outputs": [
    {
     "name": "stdout",
     "output_type": "stream",
     "text": [
      "200 Success: Book information has been added.\n"
     ]
    }
   ],
   "source": [
    "params = dict(query='How many lift trips on 1 June 2023',\n",
    "              return_server= 'http://127.0.0.6:5226/')\n",
    "x = requests.post('http://127.0.0.4:5245/api', params = params)\n",
    "print(x.status_code, x.content.decode('UTF-8'))"
   ]
  },
  {
   "cell_type": "code",
   "execution_count": null,
   "metadata": {},
   "outputs": [],
   "source": []
  }
 ],
 "metadata": {
  "kernelspec": {
   "display_name": "dashboards",
   "language": "python",
   "name": "python3"
  },
  "language_info": {
   "codemirror_mode": {
    "name": "ipython",
    "version": 3
   },
   "file_extension": ".py",
   "mimetype": "text/x-python",
   "name": "python",
   "nbconvert_exporter": "python",
   "pygments_lexer": "ipython3",
   "version": "3.11.4"
  }
 },
 "nbformat": 4,
 "nbformat_minor": 2
}
